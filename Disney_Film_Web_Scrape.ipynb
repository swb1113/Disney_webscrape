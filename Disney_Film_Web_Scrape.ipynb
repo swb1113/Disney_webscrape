{
 "cells": [
  {
   "cell_type": "markdown",
   "id": "891d4291",
   "metadata": {},
   "source": [
    "# Disney Films Web Scraping Project\n",
    "\n",
    "### Sangwon Baek"
   ]
  },
  {
   "cell_type": "markdown",
   "id": "82bdd810",
   "metadata": {},
   "source": [
    "### Task 1: Obtain info box for Toy Story 3"
   ]
  },
  {
   "cell_type": "markdown",
   "id": "00723ec5",
   "metadata": {},
   "source": [
    "#### Import Libraries"
   ]
  },
  {
   "cell_type": "code",
   "execution_count": 1,
   "id": "a5a5757a",
   "metadata": {},
   "outputs": [],
   "source": [
    "from bs4 import BeautifulSoup as bs\n",
    "import requests"
   ]
  },
  {
   "cell_type": "markdown",
   "id": "722d2ac9",
   "metadata": {},
   "source": [
    "#### Load the Webpage"
   ]
  },
  {
   "cell_type": "code",
   "execution_count": 2,
   "id": "4014c1b5",
   "metadata": {},
   "outputs": [],
   "source": [
    "r = requests.get(\"https://en.wikipedia.org/wiki/Toy_Story_3\")\n",
    "\n",
    "# convert to a beautiful soup object\n",
    "soup = bs(r.content)\n",
    "\n",
    "# print out the HTML\n",
    "contents = soup.prettify()\n",
    "#print(contents)"
   ]
  },
  {
   "cell_type": "code",
   "execution_count": 3,
   "id": "af3201b3",
   "metadata": {},
   "outputs": [],
   "source": [
    "# Taking a look at the infobox html\n",
    "\n",
    "info_box = soup.find(class_=\"infobox vevent\")\n",
    "info_rows = info_box.find_all(\"tr\")\n",
    "\n",
    "#for row in info_rows:\n",
    "    #print(row.prettify())"
   ]
  },
  {
   "cell_type": "code",
   "execution_count": 4,
   "id": "0bd2c874",
   "metadata": {},
   "outputs": [
    {
     "data": {
      "text/plain": [
       "{'title': 'Toy Story 3',\n",
       " 'Directed by': 'Lee Unkrich',\n",
       " 'Screenplay by': 'Michael Arndt',\n",
       " 'Story by': ['John Lasseter', 'Andrew Stanton', 'Lee Unkrich'],\n",
       " 'Produced by': 'Darla K. Anderson',\n",
       " 'Starring': ['Tom Hanks',\n",
       "  'Tim Allen',\n",
       "  'Joan Cusack',\n",
       "  'Don Rickles',\n",
       "  'Wallace Shawn',\n",
       "  'John Ratzenberger',\n",
       "  'Estelle Harris',\n",
       "  'Ned Beatty',\n",
       "  'Michael Keaton',\n",
       "  'Jodi Benson',\n",
       "  'John Morris'],\n",
       " 'Cinematography': ['Jeremy Lasky', 'Kim White'],\n",
       " 'Edited by': 'Ken Schretzmann',\n",
       " 'Music by': 'Randy Newman',\n",
       " 'Production companies': ['Walt Disney Pictures', 'Pixar Animation Studios'],\n",
       " 'Distributed by': 'Walt Disney Studios Motion Pictures',\n",
       " 'Release dates': ['June 12, 2010 ( 2010-06-12 ) ( Taormina Film Fest )',\n",
       "  'June 18, 2010 ( 2010-06-18 ) (United States)'],\n",
       " 'Running time': '103 minutes [1]',\n",
       " 'Country': 'United States',\n",
       " 'Language': 'English',\n",
       " 'Budget': '$200 million [1]',\n",
       " 'Box office': '$1.067 billion [1]'}"
      ]
     },
     "execution_count": 4,
     "metadata": {},
     "output_type": "execute_result"
    }
   ],
   "source": [
    "movie_info = {}\n",
    "\n",
    "# Function to extract data from info box to python dict \n",
    "def get_content_value(row_data):\n",
    "    if row_data.find(\"li\"):\n",
    "        return [li.get_text(\" \", strip=True).replace(\"\\xa0\", \" \") for li in row_data.find_all(\"li\")]\n",
    "    else:\n",
    "        return row_data.get_text(\" \", strip=True).replace(\"\\xa0\", \" \")\n",
    "    \n",
    "for index, row in enumerate(info_rows):\n",
    "    if index == 0:\n",
    "        movie_info['title'] = row.find(\"th\").get_text(\" \", strip=True)\n",
    "    elif index == 1:\n",
    "        continue\n",
    "    else:\n",
    "        content_key = row.find(\"th\").get_text(\" \", strip=True)\n",
    "        content_value = get_content_value(row.find(\"td\"))\n",
    "        movie_info[content_key] = content_value\n",
    "    \n",
    "movie_info\n",
    "\n"
   ]
  },
  {
   "cell_type": "markdown",
   "id": "1be61208",
   "metadata": {},
   "source": [
    "### Task 2: Obtain info box for all movies "
   ]
  },
  {
   "cell_type": "code",
   "execution_count": 8,
   "id": "229a4e7d",
   "metadata": {},
   "outputs": [],
   "source": [
    "r = requests.get(\"https://en.wikipedia.org/wiki/List_of_Walt_Disney_Pictures_films\")\n",
    "\n",
    "# convert to beautiful soup object\n",
    "soup = bs(r.content)\n",
    "\n",
    "# print out html\n",
    "contents = soup.prettify()\n",
    "#print(contents)"
   ]
  },
  {
   "cell_type": "code",
   "execution_count": 6,
   "id": "82623345",
   "metadata": {},
   "outputs": [
    {
     "data": {
      "text/plain": [
       "[<i><a href=\"/wiki/Snow_White_and_the_Seven_Dwarfs_(1937_film)\" title=\"Snow White and the Seven Dwarfs (1937 film)\">Snow White and the Seven Dwarfs</a></i>,\n",
       " <i><a href=\"/wiki/Pinocchio_(1940_film)\" title=\"Pinocchio (1940 film)\">Pinocchio</a></i>,\n",
       " <i><a href=\"/wiki/Fantasia_(1940_film)\" title=\"Fantasia (1940 film)\">Fantasia</a></i>,\n",
       " <i><a href=\"/wiki/The_Reluctant_Dragon_(1941_film)\" title=\"The Reluctant Dragon (1941 film)\">The Reluctant Dragon</a></i>,\n",
       " <i><a href=\"/wiki/Dumbo\" title=\"Dumbo\">Dumbo</a></i>,\n",
       " <i><a href=\"/wiki/Bambi\" title=\"Bambi\">Bambi</a></i>,\n",
       " <i><a href=\"/wiki/Saludos_Amigos\" title=\"Saludos Amigos\">Saludos Amigos</a></i>,\n",
       " <i><a href=\"/wiki/Victory_Through_Air_Power_(film)\" title=\"Victory Through Air Power (film)\">Victory Through Air Power</a></i>,\n",
       " <i><a href=\"/wiki/The_Three_Caballeros\" title=\"The Three Caballeros\">The Three Caballeros</a></i>,\n",
       " <i><a href=\"/wiki/Make_Mine_Music\" title=\"Make Mine Music\">Make Mine Music</a></i>]"
      ]
     },
     "execution_count": 6,
     "metadata": {},
     "output_type": "execute_result"
    }
   ],
   "source": [
    "movies = soup.select(\".wikitable.sortable i\")\n",
    "movies[0:10]\n"
   ]
  },
  {
   "cell_type": "code",
   "execution_count": 11,
   "id": "53dfe654",
   "metadata": {},
   "outputs": [],
   "source": [
    "def get_content_value(row_data):\n",
    "    if row_data.find(\"li\"):\n",
    "        return [li.get_text(\" \", strip=True).replace(\"\\xa0\", \" \") for li in row_data.find_all(\"li\")]\n",
    "    elif row_data.find(\"br\"):\n",
    "        return [text for text in row_data.stripped_strings]    \n",
    "    else:\n",
    "        return row_data.get_text(\" \", strip=True).replace(\"\\xa0\", \" \")\n",
    "\n",
    "def clean_tags(soup):\n",
    "    for tag in soup.find_all([\"sup\", \"span\"]):\n",
    "        tag.decompose()\n",
    "\n",
    "def get_info_box(url):\n",
    "    \n",
    "    r = requests.get(url)\n",
    "    soup = bs(r.content)\n",
    "    info_box = soup.find(class_=\"infobox vevent\")\n",
    "    info_rows = info_box.find_all(\"tr\")\n",
    "    \n",
    "    clean_tags(soup)\n",
    "    \n",
    "    movie_info = {}\n",
    "    for index, row in enumerate(info_rows):\n",
    "        if index == 0:\n",
    "            movie_info['title'] = row.find(\"th\").get_text(\" \", strip=True)\n",
    "        else:\n",
    "            header = row.find('th')\n",
    "            if header:\n",
    "                content_key = row.find(\"th\").get_text(\" \", strip=True)\n",
    "                content_value = get_content_value(row.find(\"td\"))\n",
    "                movie_info[content_key] = content_value\n",
    "    \n",
    "    return movie_info\n"
   ]
  },
  {
   "cell_type": "code",
   "execution_count": 13,
   "id": "ec810aa8",
   "metadata": {
    "collapsed": true
   },
   "outputs": [
    {
     "data": {
      "text/plain": [
       "{'title': 'Spirited Away',\n",
       " 'Japanese': '',\n",
       " 'Hepburn': 'Sen to Chihiro no Kamikakushi',\n",
       " 'Directed by': 'Hayao Miyazaki',\n",
       " 'Written by': 'Hayao Miyazaki',\n",
       " 'Produced by': 'Toshio Suzuki',\n",
       " 'Starring': ['Rumi Hiiragi',\n",
       "  'Miyu Irino',\n",
       "  'Mari Natsuki',\n",
       "  'Takashi Naito',\n",
       "  'Yasuko Sawaguchi',\n",
       "  'Tsunehiko Kamijō',\n",
       "  'Takehiko Ono',\n",
       "  'Bunta Sugawara'],\n",
       " 'Cinematography': 'Atsushi Okui',\n",
       " 'Edited by': 'Takeshi Seyama',\n",
       " 'Music by': 'Joe Hisaishi',\n",
       " 'Production company': 'Studio Ghibli',\n",
       " 'Distributed by': 'Toho',\n",
       " 'Release date': ['20 July 2001 (Japan)'],\n",
       " 'Running time': '125 minutes',\n",
       " 'Country': 'Japan',\n",
       " 'Language': 'Japanese',\n",
       " 'Budget': '$19.2 million',\n",
       " 'Box office': '$395.8 million'}"
      ]
     },
     "execution_count": 13,
     "metadata": {},
     "output_type": "execute_result"
    }
   ],
   "source": [
    "get_info_box(\"https://en.wikipedia.org/wiki/Spirited_Away\")"
   ]
  },
  {
   "cell_type": "code",
   "execution_count": 14,
   "id": "90822a48",
   "metadata": {},
   "outputs": [
    {
     "name": "stdout",
     "output_type": "stream",
     "text": [
      "0\n",
      "10\n",
      "20\n",
      "30\n",
      "40\n",
      "Zorro the Avenger\n",
      "'NoneType' object has no attribute 'find'\n",
      "The Sign of Zorro\n",
      "'NoneType' object has no attribute 'find'\n",
      "50\n",
      "60\n",
      "70\n",
      "80\n",
      "90\n",
      "100\n",
      "110\n",
      "120\n",
      "130\n",
      "140\n",
      "150\n",
      "160\n",
      "170\n",
      "180\n",
      "190\n",
      "200\n",
      "210\n",
      "220\n",
      "230\n",
      "240\n",
      "250\n",
      "260\n",
      "270\n",
      "280\n",
      "290\n",
      "300\n",
      "310\n",
      "320\n",
      "330\n",
      "340\n",
      "350\n",
      "360\n",
      "370\n",
      "380\n",
      "390\n",
      "400\n",
      "410\n",
      "420\n",
      "430\n",
      "440\n",
      "450\n",
      "460\n",
      "470\n",
      "480\n",
      "490\n",
      "The Beatles: Get Back – The Rooftop Concert\n",
      "'NoneType' object has no attribute 'find'\n",
      "500\n",
      "Wish\n",
      "'NoneType' object has no attribute 'find_all'\n",
      "Elio\n",
      "'NoneType' object has no attribute 'find_all'\n",
      "510\n",
      "61\n",
      "'NoneType' object has no attribute 'find_all'\n",
      "All Night Long\n",
      "'NoneType' object has no attribute 'find'\n",
      "Big Thunder Mountain Railroad\n",
      "'NoneType' object has no attribute 'find_all'\n",
      "520\n",
      "Keeper of the Lost Cities\n",
      "'NoneType' object has no attribute 'find_all'\n",
      "Muppet Man\n",
      "'NoneType' object has no attribute 'find_all'\n",
      "530\n",
      "One Thousand and One Nights\n",
      "'NoneType' object has no attribute 'find_all'\n",
      "Shrunk\n",
      "'NoneType' object has no attribute 'find'\n",
      "Sister Act 3\n",
      "'NoneType' object has no attribute 'find'\n",
      "The Graveyard Book\n",
      "'NoneType' object has no attribute 'find_all'\n",
      "The Thief\n",
      "'NoneType' object has no attribute 'find_all'\n",
      "540\n",
      "Tom Sawyer\n",
      "'NoneType' object has no attribute 'find_all'\n",
      "Tower of Terror\n",
      "'NoneType' object has no attribute 'find_all'\n",
      "Tron: Ares\n",
      "'NoneType' object has no attribute 'find'\n",
      "FC Barcelona\n",
      "'NoneType' object has no attribute 'find_all'\n",
      "Figment\n",
      "'NoneType' object has no attribute 'find_all'\n"
     ]
    }
   ],
   "source": [
    "r = requests.get(\"https://en.wikipedia.org/wiki/List_of_Walt_Disney_Pictures_films\")\n",
    "soup = bs(r.content)\n",
    "movies = soup.select(\".wikitable.sortable i a\")\n",
    "\n",
    "base_path = \"https://en.wikipedia.org/\"\n",
    "\n",
    "movie_info_list = []\n",
    "for index, movie in enumerate(movies):\n",
    "    if index % 10 == 0:\n",
    "        print(index)\n",
    "    try:\n",
    "        relative_path = movie['href']\n",
    "        full_path = base_path + relative_path\n",
    "        title = movie['title']\n",
    "        \n",
    "        movie_info_list.append(get_info_box(full_path))\n",
    "    \n",
    "    except Exception as e:\n",
    "        print(movie.get_text())\n",
    "        print(e)\n",
    "        \n"
   ]
  },
  {
   "cell_type": "code",
   "execution_count": 15,
   "id": "2cb92248",
   "metadata": {},
   "outputs": [
    {
     "data": {
      "text/plain": [
       "529"
      ]
     },
     "execution_count": 15,
     "metadata": {},
     "output_type": "execute_result"
    }
   ],
   "source": [
    "len(movie_info_list)"
   ]
  },
  {
   "cell_type": "markdown",
   "id": "c1e1e867",
   "metadata": {},
   "source": [
    "#### Save/Reload Movie Data"
   ]
  },
  {
   "cell_type": "code",
   "execution_count": 65,
   "id": "044f80a2",
   "metadata": {},
   "outputs": [],
   "source": [
    "import json\n",
    "\n",
    "def save_data(title, data):\n",
    "    with open(title, 'w', encoding='utf-8') as f:\n",
    "        json.dump(data, f, ensure_ascii=False, indent=2)"
   ]
  },
  {
   "cell_type": "code",
   "execution_count": 2,
   "id": "c1806003",
   "metadata": {},
   "outputs": [],
   "source": [
    "import json\n",
    "\n",
    "def load_data(title):\n",
    "    with open(title, encoding=\"utf-8\") as f:\n",
    "        return json.load(f)\n"
   ]
  },
  {
   "cell_type": "code",
   "execution_count": 18,
   "id": "9aef051a",
   "metadata": {},
   "outputs": [],
   "source": [
    "save_data(\"disney_data_cleaned.json\", movie_info_list)"
   ]
  },
  {
   "cell_type": "markdown",
   "id": "25019b86",
   "metadata": {
    "collapsed": true
   },
   "source": [
    "### Task 3: Clean the Data"
   ]
  },
  {
   "cell_type": "markdown",
   "id": "db568781",
   "metadata": {},
   "source": [
    "#### subtasks:\n",
    "1. ~~clean up references [1]~~\n",
    "2. ~~convert running time into an integer~~\n",
    "3. ~~convert dates into datetime object~~\n",
    "4. ~~split up long strings~~\n",
    "5. ~~convert budget and box office to numbers~~"
   ]
  },
  {
   "cell_type": "code",
   "execution_count": 3,
   "id": "279eb481",
   "metadata": {},
   "outputs": [],
   "source": [
    "movie_info_list = load_data(\"disney_data_cleaned.json\")"
   ]
  },
  {
   "cell_type": "code",
   "execution_count": 5,
   "id": "6009c5c4",
   "metadata": {
    "scrolled": false
   },
   "outputs": [],
   "source": [
    "#print([movie.get('Running time', 'N/A') for movie in movie_info_list])"
   ]
  },
  {
   "cell_type": "code",
   "execution_count": 4,
   "id": "1e28632f",
   "metadata": {},
   "outputs": [],
   "source": [
    "# Convert running time to int\n",
    "\n",
    "def minutes_to_integer(running_time):\n",
    "    if running_time == \"N/A\":\n",
    "        return None\n",
    "    \n",
    "    if isinstance(running_time, list): #is a list\n",
    "        return int(running_time[0].split(\" \")[0])\n",
    "    else: #is a string\n",
    "        return int(running_time.split(\" \")[0])\n",
    "\n",
    "for movie in movie_info_list:\n",
    "    movie['Running time (int)'] = minutes_to_integer(movie.get('Running time', \"N/A\"))"
   ]
  },
  {
   "cell_type": "code",
   "execution_count": 39,
   "id": "10899760",
   "metadata": {},
   "outputs": [
    {
     "name": "stdout",
     "output_type": "stream",
     "text": [
      "[83, 88, 126, 74, 64, 70, 42, 65, 71, 75, 94, 73, 75, 82, 68, 74, 96, 75, 84, 77, 92, 69, 81, 60, 127, 93, 76, 75, 73, 85, 81, 70, 90, 80, 75, 84, 83, 72, 97, 75, 104, 93, 105, 95, 97, 134, 69, 92, 126, 79, 97, 128, 73, 91, 105, 98, 130, 89, 93, 67, 98, 100, 118, 103, 110, 80, 79, 91, 91, 97, 118, 139, 131, 92, 87, 116, 93, 110, 110, 131, 101, 108, 84, 78, 75, 164, 106, 110, 99, 113, 108, 102, 85, 91, 93, 100, 100, 79, 96, 113, 89, 117, 92, 88, 92, 87, 93, 93, 93, 90, 83, 96, 88, 89, 91, 93, 92, 97, 100, 100, 89, None, 91, 112, 115, 95, 91, 97, 104, 74, 48, 77, 104, 128, 101, 94, 104, 90, 100, 88, 93, 98, 112, 84, 97, 97, 114, 96, 97, 109, 83, 90, 107, 96, 103, 91, 95, 105, 113, 80, 101, 90, 74, 90, 89, 110, 74, 93, 84, 83, 74, 77, 107, 93, 88, 108, 84, 121, 89, 104, 90, 86, 84, 108, 107, 96, 98, 105, 108, 94, 106, 102, 69, 88, 102, 102, 97, 111, 100, 96, 96, 78, 81, 108, 89, 99, 89, 81, 92, 100, 89, 79, 91, 81, 101, 104, 103, 86, 106, 74, 93, 92, 98, 95, 93, 87, 93, 87, 128, 77, 86, 95, 114, 93, 83, 83, 88, 78, 112, 66, 92, 78, 79, 72, 82, 75, 104, 70, 75, 113, 100, 78, 83, 69, 96, 115, 86, 92, 65, 95, 73, 73, 68, 128, 85, 88, 125, 96, 104, 95, 74, 72, 88, 75, 61, 117, 94, 100, 143, 96, 64, 87, 85, 87, 50, 74, 136, 78, 85, 65, 76, 40, 120, 84, 113, 67, 115, 67, 131, 100, 79, 68, 95, 97, 72, 100, 119, 100, 76, 68, 67, 120, 81, 143, 72, 118, 40, 72, 120, 99, 82, 117, 72, 150, 104, 73, 76, 92, 69, 70, 95, 94, 169, 111, 85, 82, 87, 110, 107, 124, 74, 82, 150, 97, 77, 91, 100, 112, 93, 78, 96, 99, 76, 98, 97, 99, 101, 96, None, 90, 101, 107, 82, 101, 96, 88, 97, 108, 104, 116, 103, 109, 115, 74, 79, 123, 108, 100, 125, None, 84, 90, 88, 109, 89, 104, 137, 106, 63, 88, 103, 93, 95, 132, 77, 96, 93, 100, 89, 87, 75, 101, 130, 77, 104, 149, 92, 81, 102, 125, 107, 78, 77, 124, 97, 84, 127, 81, 102, 124, 129, 76, 106, 82, 130, 95, 154, 97, 117, 108, 106, 99, 113, 97, 118, 103, 124, 107, 161, 86, 129, 76, 129, 102, None, 162, 114, 105, 109, 118, 104, 99, 112, 131, 112, 76, 128, 100, 118, 119, 104, 100, 103, 114, 99, 102, 107, 78, 86, 95, 160, 85, 100, 95, 115, 110, 122, 101, 121, 95, 107, 134, 95, 128, 102, 58, 108, 82, 100, 107, 91, 84, 97, 105, 105, 111, 105, 103, 118, 102, 75, 77, None, None, None, None, 95, 118, None, None, 81, 70, None, None, 93, 91, 78, 85, 124, None, 83, 107, None, 79, 79, 102, 468, 108, None]\n"
     ]
    }
   ],
   "source": [
    "print([movie.get('Running time (int)', 'N/A') for movie in movie_info_list])"
   ]
  },
  {
   "cell_type": "code",
   "execution_count": null,
   "id": "a2933e8f",
   "metadata": {},
   "outputs": [],
   "source": [
    "print([movie.get('Running time (int)', 'N/A') for movie in movie_info_list])"
   ]
  },
  {
   "cell_type": "code",
   "execution_count": 6,
   "id": "fa44b7e5",
   "metadata": {},
   "outputs": [],
   "source": [
    "#print([movie.get('Budget', 'N/A') for movie in movie_info_list])"
   ]
  },
  {
   "cell_type": "code",
   "execution_count": 21,
   "id": "969c5c0c",
   "metadata": {},
   "outputs": [
    {
     "name": "stdout",
     "output_type": "stream",
     "text": [
      "3500000.0\n"
     ]
    }
   ],
   "source": [
    "# Convert budget and box offices to numbers\n",
    "\n",
    "import re\n",
    "\n",
    "amounts = r\"thousand|million|billion\"\n",
    "number = r\"\\d+(,\\d{3})*\\.*\\d*\"\n",
    "\n",
    "word_re = rf\"\\${number}(-|\\sto\\s|–)?({number})?\\s({amounts})\"\n",
    "value_re = rf\"\\${number}\"\n",
    "\n",
    "\n",
    "def word_to_value(word):\n",
    "    value_dict = {\"thousand\": 1000, \"million\": 1000000, \"billion\": 1000000000}\n",
    "    return value_dict[word]\n",
    "\n",
    "\n",
    "def parse_word_syntax(string):\n",
    "    value_string = re.search(number, string).group()\n",
    "    value = float(value_string.replace(\",\", \"\"))\n",
    "    word = re.search(amounts, string, flags=re.I).group().lower()\n",
    "    word_value = word_to_value(word)\n",
    "    return value * word_value\n",
    "\n",
    "\n",
    "def parse_value_syntax(string):\n",
    "    value_string = re.search(number, string).group()\n",
    "    value = float(value_string.replace(\",\", \"\"))\n",
    "    return value\n",
    "\n",
    "\n",
    "'''\n",
    "money_conversion(\"$12.2 million\") --> 12200000 ## Word syntax\n",
    "money_conversion(\"$790,000\") --> 790000        ## Value syntax\n",
    "'''\n",
    "\n",
    "\n",
    "def money_conversion(money):\n",
    "    if money == \"N/A\":\n",
    "        return None\n",
    "    \n",
    "    if isinstance(money, list):\n",
    "        money = money[0]\n",
    "\n",
    "    word_syntax = re.search(word_re, money, flags=re.I)\n",
    "    value_syntax = re.search(value_re, money)\n",
    "\n",
    "    if word_syntax:\n",
    "        return parse_word_syntax(word_syntax.group())\n",
    "\n",
    "    elif value_syntax:\n",
    "        return parse_value_syntax(value_syntax.group())\n",
    "    \n",
    "    else:\n",
    "        return None\n",
    "\n",
    "print(money_conversion(\"$3.5 to 4 Million\"))"
   ]
  },
  {
   "cell_type": "code",
   "execution_count": 22,
   "id": "dae7d9e1",
   "metadata": {},
   "outputs": [],
   "source": [
    "for movie in movie_info_list:\n",
    "    movie['Budget (float)'] = money_conversion(movie.get('Budget', \"N/A\"))\n",
    "    movie['Box office (float)'] = money_conversion(movie.get('Box office', \"N/A\"))"
   ]
  },
  {
   "cell_type": "code",
   "execution_count": 24,
   "id": "deeaa3e7",
   "metadata": {},
   "outputs": [
    {
     "data": {
      "text/plain": [
       "{'title': 'Fantasia',\n",
       " 'Directed by': ['Samuel Armstrong',\n",
       "  'James Algar',\n",
       "  'Bill Roberts',\n",
       "  'Paul Satterfield',\n",
       "  'Ben Sharpsteen',\n",
       "  'David D. Hand',\n",
       "  'Hamilton Luske',\n",
       "  'Jim Handley',\n",
       "  'Ford Beebe',\n",
       "  'T. Hee',\n",
       "  'Norman Ferguson',\n",
       "  'Wilfred Jackson'],\n",
       " 'Story by': ['Joe Grant', 'Dick Huemer'],\n",
       " 'Produced by': ['Walt Disney', 'Ben Sharpsteen'],\n",
       " 'Starring': ['Leopold Stokowski', 'Deems Taylor'],\n",
       " 'Narrated by': 'Deems Taylor',\n",
       " 'Cinematography': 'James Wong Howe',\n",
       " 'Music by': 'See program',\n",
       " 'Production company': 'Walt Disney Productions',\n",
       " 'Distributed by': 'RKO Radio Pictures',\n",
       " 'Release date': ['November 13, 1940'],\n",
       " 'Running time': '126 minutes',\n",
       " 'Country': 'United States',\n",
       " 'Language': 'English',\n",
       " 'Budget': '$2.28 million',\n",
       " 'Box office': '$76.4–$83.3 million (United States and Canada)',\n",
       " 'Running time (int)': 126,\n",
       " 'Budget (float)': 2280000.0,\n",
       " 'Box office (float)': 83300000.0}"
      ]
     },
     "execution_count": 24,
     "metadata": {},
     "output_type": "execute_result"
    }
   ],
   "source": [
    "movie_info_list[2]"
   ]
  },
  {
   "cell_type": "code",
   "execution_count": null,
   "id": "6ac8920b",
   "metadata": {},
   "outputs": [],
   "source": [
    "# Changing 'Release dates' to 'Release date' so I can change both to 'Release date (datetime)'\n",
    "\n",
    "for dic in movie_info_list:\n",
    "    if 'Release dates' in dic:\n",
    "        dic['Release date']=dic.pop('Release dates')\n"
   ]
  },
  {
   "cell_type": "code",
   "execution_count": 7,
   "id": "245dbf01",
   "metadata": {},
   "outputs": [],
   "source": [
    "# Convert Dates into datetimes\n",
    "#print([movie.get('Release date', 'N/A') for movie in movie_info_list])"
   ]
  },
  {
   "cell_type": "code",
   "execution_count": 31,
   "id": "8eb73d15",
   "metadata": {
    "scrolled": true
   },
   "outputs": [],
   "source": [
    "# June 28, 1950\n",
    "from datetime import datetime\n",
    "\n",
    "dates = [movie.get('Release date', 'N/A') for movie in movie_info_list]\n",
    "\n",
    "def clean_date(date):\n",
    "    return date.split(\"(\")[0].strip()\n",
    "\n",
    "def date_conversion(date):\n",
    "    if isinstance(date, list):\n",
    "        date = date[0]\n",
    "    \n",
    "    if date == \"N/A\":\n",
    "        return None\n",
    "    \n",
    "    date_str = clean_date(date)\n",
    "    fmts = [\"%B %d, %Y\", \"%d %B %Y\"] \n",
    "    \n",
    "    for fmt in fmts:\n",
    "        try:\n",
    "            return datetime.strptime(date_str, fmt)\n",
    "        except:\n",
    "            pass\n",
    "    return None\n",
    "    "
   ]
  },
  {
   "cell_type": "code",
   "execution_count": 34,
   "id": "5358bb79",
   "metadata": {},
   "outputs": [
    {
     "name": "stdout",
     "output_type": "stream",
     "text": [
      "{'title': 'Snow White and the Seven Dwarfs', 'Directed by': ['David Hand', 'William Cottrell', 'Wilfred Jackson', 'Larry Morey', 'Perce Pearce', 'Ben Sharpsteen'], 'Written by': ['Ted Sears', 'Richard Creedon', 'Otto Englander', 'Dick Rickard', 'Earl Hurd', 'Merrill De Maris', 'Dorothy Ann Blank', 'Webb Smith'], 'Based on': ['Snow White', 'by The', 'Brothers Grimm'], 'Produced by': 'Walt Disney', 'Starring': ['Adriana Caselotti', 'Lucille La Verne', 'Harry Stockwell', 'Roy Atwell', 'Pinto Colvig', 'Otis Harlan', 'Scotty Mattraw', 'Billy Gilbert', 'Eddie Collins', 'Moroni Olsen', 'Stuart Buchanan'], 'Music by': ['Frank Churchill', 'Paul Smith', 'Leigh Harline'], 'Production company': 'Walt Disney Productions', 'Distributed by': 'RKO Radio Pictures', 'Running time': '83 minutes', 'Country': 'United States', 'Language': 'English', 'Budget': '$1.49 million', 'Box office': '$418 million', 'Running time (int)': 83, 'Budget (float)': 1490000.0, 'Box office (float)': 418000000.0, 'Release date (datetime)': None, 'Release date': ['December 21, 1937 ( Carthay Circle Theatre )', 'February 4, 1938 (United States)']}\n"
     ]
    }
   ],
   "source": [
    "for dic in movie_info_list:\n",
    "    if 'Release dates' in dic:\n",
    "        dic['Release date']=dic.pop('Release dates')\n",
    "\n"
   ]
  },
  {
   "cell_type": "code",
   "execution_count": 35,
   "id": "514171ca",
   "metadata": {
    "scrolled": true
   },
   "outputs": [],
   "source": [
    "for movie in movie_info_list:\n",
    "    movie['Release date (datetime)'] = date_conversion(movie.get('Release date', 'N/A'))"
   ]
  },
  {
   "cell_type": "code",
   "execution_count": null,
   "id": "aa66d9b2",
   "metadata": {},
   "outputs": [],
   "source": [
    "print([movie.get('Release date (datetime)', 'N/A') for movie in movie_info_list])"
   ]
  },
  {
   "cell_type": "markdown",
   "id": "63b5efcc",
   "metadata": {},
   "source": [
    "#### Save/Load data with Pickle"
   ]
  },
  {
   "cell_type": "code",
   "execution_count": 37,
   "id": "3223a2dc",
   "metadata": {},
   "outputs": [],
   "source": [
    "import pickle \n",
    "\n",
    "def save_data_pickle(name, data):\n",
    "    with open(name, 'wb') as f:\n",
    "        pickle.dump(data, f)"
   ]
  },
  {
   "cell_type": "code",
   "execution_count": 38,
   "id": "1e44085b",
   "metadata": {},
   "outputs": [],
   "source": [
    "import pickle\n",
    "\n",
    "def load_data_pickle(name):\n",
    "    with open(name, 'rb') as f:\n",
    "        return pickle.load(f)"
   ]
  },
  {
   "cell_type": "code",
   "execution_count": 39,
   "id": "bb317427",
   "metadata": {},
   "outputs": [],
   "source": [
    "save_data_pickle(\"disney_data_cleaned_more\", movie_info_list)"
   ]
  },
  {
   "cell_type": "code",
   "execution_count": 40,
   "id": "fac2975b",
   "metadata": {},
   "outputs": [],
   "source": [
    "movie_info_list = load_data_pickle(\"disney_data_cleaned_more\")"
   ]
  },
  {
   "cell_type": "markdown",
   "id": "8e580efa",
   "metadata": {},
   "source": [
    "### Task #4: Attach IMDB/Rotten Tomatoes/Meta Scores using OMDb api"
   ]
  },
  {
   "cell_type": "code",
   "execution_count": null,
   "id": "d05112f8",
   "metadata": {},
   "outputs": [],
   "source": [
    "# http://www.omdbapi.com/?apikey=[yourkey]& "
   ]
  },
  {
   "cell_type": "code",
   "execution_count": 50,
   "id": "63076a3e",
   "metadata": {
    "scrolled": true
   },
   "outputs": [],
   "source": [
    "import requests\n",
    "import urllib\n",
    "\n",
    "def get_omdb_info(title):\n",
    "    base_url = \"http://www.omdbapi.com/?\"\n",
    "    parameters = {\"apikey\": \"4fa208f6\", 't': title} # can use system enviornment variables to hide apikey\n",
    "    params_encoded = urllib.parse.urlencode(parameters)\n",
    "    full_url = base_url + params_encoded\n",
    "    return requests.get(full_url).json()\n",
    "\n",
    "def get_rotten_tomato_score(omdb_info):\n",
    "    ratings = omdb_info.get('Ratings', [])\n",
    "    for rating in ratings:\n",
    "        if rating['Source'] == 'Rotten Tomatoes':\n",
    "            return rating['Value']\n",
    "    return None\n"
   ]
  },
  {
   "cell_type": "code",
   "execution_count": 51,
   "id": "1e21b0f3",
   "metadata": {},
   "outputs": [],
   "source": [
    "for movie in movie_info_list:\n",
    "    title = movie['title']\n",
    "    omdb_info = get_omdb_info(title)\n",
    "    movie['imdb'] = omdb_info.get('imdbRating', None)\n",
    "    movie['metascore'] = omdb_info.get('Metascore', None)\n",
    "    movie['rotten_tomatoes'] = get_rotten_tomato_score(omdb_info)\n",
    "    "
   ]
  },
  {
   "cell_type": "code",
   "execution_count": 55,
   "id": "ace8d7b2",
   "metadata": {},
   "outputs": [
    {
     "data": {
      "text/plain": [
       "{'title': 'The Aristocats',\n",
       " 'Directed by': 'Wolfgang Reitherman',\n",
       " 'Story by': ['Ken Anderson',\n",
       "  'Larry Clemmons',\n",
       "  'Eric Cleworth',\n",
       "  'Vance Gerry',\n",
       "  'Julius Svendsen',\n",
       "  'Frank Thomas',\n",
       "  'Ralph Wright'],\n",
       " 'Based on': ['Tom McGowan', 'Tom Rowe'],\n",
       " 'Produced by': ['Winston Hibler', 'Wolfgang Reitherman'],\n",
       " 'Starring': ['Phil Harris',\n",
       "  'Eva Gabor',\n",
       "  'Sterling Holloway',\n",
       "  'Scatman Crothers',\n",
       "  'Paul Winchell',\n",
       "  'Lord Tim Hudson',\n",
       "  'Thurl Ravenscroft',\n",
       "  'Dean Clark',\n",
       "  'Liz English',\n",
       "  'Gary Dubin'],\n",
       " 'Edited by': 'Tom Acosta',\n",
       " 'Music by': 'George Bruns',\n",
       " 'Production company': 'Walt Disney Productions',\n",
       " 'Distributed by': 'Buena Vista Distribution',\n",
       " 'Running time': '79 minutes',\n",
       " 'Country': 'United States',\n",
       " 'Language': 'English',\n",
       " 'Budget': '$4 million',\n",
       " 'Box office': '$191 million',\n",
       " 'Running time (int)': 79,\n",
       " 'Budget (float)': 4000000.0,\n",
       " 'Box office (float)': 191000000.0,\n",
       " 'Release date (datetime)': datetime.datetime(1970, 12, 11, 0, 0),\n",
       " 'Release date': ['December 11, 1970 (premiere)',\n",
       "  'December 24, 1970 (United States)'],\n",
       " 'imdb': '7.1',\n",
       " 'metascore': '66',\n",
       " 'rotten_tomatoes': '63%'}"
      ]
     },
     "execution_count": 55,
     "metadata": {},
     "output_type": "execute_result"
    }
   ],
   "source": [
    "# Checking random movie to see if the review scores were added\n",
    "movie_info_list[-6]"
   ]
  },
  {
   "cell_type": "code",
   "execution_count": 56,
   "id": "84f534fc",
   "metadata": {},
   "outputs": [],
   "source": [
    "save_data_pickle('disney_movie_data_final.pickle', movie_info_list)"
   ]
  },
  {
   "cell_type": "markdown",
   "id": "5c57bb0f",
   "metadata": {},
   "source": [
    "### Task #5: Save data as JSON & CSV"
   ]
  },
  {
   "cell_type": "markdown",
   "id": "c00af3ab",
   "metadata": {},
   "source": [
    "#### Converty data to JSON (need to change datetime variable into string)"
   ]
  },
  {
   "cell_type": "code",
   "execution_count": 57,
   "id": "c4df6f5b",
   "metadata": {},
   "outputs": [],
   "source": [
    "#Make a copy of movie_info_list to convert datetime to string \n",
    "movie_info_copy = [movie.copy() for movie in movie_info_list]"
   ]
  },
  {
   "cell_type": "code",
   "execution_count": 59,
   "id": "bcb6fd7a",
   "metadata": {},
   "outputs": [
    {
     "data": {
      "text/plain": [
       "{'title': '20,000 Leagues Under the Sea',\n",
       " 'Directed by': 'Richard Fleischer',\n",
       " 'Screenplay by': 'Earl Felton',\n",
       " 'Based on': ['Twenty Thousand Leagues Under the Seas', 'by', 'Jules Verne'],\n",
       " 'Produced by': 'Walt Disney',\n",
       " 'Starring': ['Kirk Douglas', 'James Mason', 'Paul Lukas', 'Peter Lorre'],\n",
       " 'Cinematography': 'Franz Planer',\n",
       " 'Edited by': 'Elmo Williams',\n",
       " 'Music by': 'Paul Smith',\n",
       " 'Production company': 'Walt Disney Productions',\n",
       " 'Distributed by': 'Buena Vista Distribution',\n",
       " 'Release date': ['December 23, 1954'],\n",
       " 'Running time': '127 minutes',\n",
       " 'Country': 'United States',\n",
       " 'Language': 'English',\n",
       " 'Budget': '$5 million',\n",
       " 'Box office': '$28.2 million',\n",
       " 'Running time (int)': 127,\n",
       " 'Budget (float)': 5000000.0,\n",
       " 'Box office (float)': 28200000.0,\n",
       " 'Release date (datetime)': datetime.datetime(1954, 12, 23, 0, 0),\n",
       " 'imdb': '7.2',\n",
       " 'metascore': '83',\n",
       " 'rotten_tomatoes': '90%'}"
      ]
     },
     "execution_count": 59,
     "metadata": {},
     "output_type": "execute_result"
    }
   ],
   "source": [
    "movie_info_copy[24]"
   ]
  },
  {
   "cell_type": "code",
   "execution_count": 61,
   "id": "61cb3131",
   "metadata": {},
   "outputs": [],
   "source": [
    "for movie in movie_info_copy:\n",
    "    current_date = movie['Release date (datetime)']\n",
    "    if current_date:\n",
    "        movie['Release date (datetime)'] = current_date.strftime(\"%B %d, %Y\")\n",
    "    else:\n",
    "        movie['Release date (datetime)'] = None"
   ]
  },
  {
   "cell_type": "code",
   "execution_count": 64,
   "id": "e26609b7",
   "metadata": {},
   "outputs": [
    {
     "data": {
      "text/plain": [
       "{'title': '20,000 Leagues Under the Sea',\n",
       " 'Directed by': 'Richard Fleischer',\n",
       " 'Screenplay by': 'Earl Felton',\n",
       " 'Based on': ['Twenty Thousand Leagues Under the Seas', 'by', 'Jules Verne'],\n",
       " 'Produced by': 'Walt Disney',\n",
       " 'Starring': ['Kirk Douglas', 'James Mason', 'Paul Lukas', 'Peter Lorre'],\n",
       " 'Cinematography': 'Franz Planer',\n",
       " 'Edited by': 'Elmo Williams',\n",
       " 'Music by': 'Paul Smith',\n",
       " 'Production company': 'Walt Disney Productions',\n",
       " 'Distributed by': 'Buena Vista Distribution',\n",
       " 'Release date': ['December 23, 1954'],\n",
       " 'Running time': '127 minutes',\n",
       " 'Country': 'United States',\n",
       " 'Language': 'English',\n",
       " 'Budget': '$5 million',\n",
       " 'Box office': '$28.2 million',\n",
       " 'Running time (int)': 127,\n",
       " 'Budget (float)': 5000000.0,\n",
       " 'Box office (float)': 28200000.0,\n",
       " 'Release date (datetime)': 'December 23, 1954',\n",
       " 'imdb': '7.2',\n",
       " 'metascore': '83',\n",
       " 'rotten_tomatoes': '90%'}"
      ]
     },
     "execution_count": 64,
     "metadata": {},
     "output_type": "execute_result"
    }
   ],
   "source": [
    "# Checking if datetime was converted to string\n",
    "movie_info_copy[24]"
   ]
  },
  {
   "cell_type": "code",
   "execution_count": 66,
   "id": "d2244e0e",
   "metadata": {},
   "outputs": [],
   "source": [
    "save_data(\"disney_movie_data_final.json\", movie_info_copy)"
   ]
  },
  {
   "cell_type": "markdown",
   "id": "9593d3a1",
   "metadata": {},
   "source": [
    "#### Convert data to CSV"
   ]
  },
  {
   "cell_type": "code",
   "execution_count": 67,
   "id": "b9e56259",
   "metadata": {},
   "outputs": [],
   "source": [
    "import pandas as pd\n",
    "\n",
    "df = pd.DataFrame(movie_info_list)"
   ]
  },
  {
   "cell_type": "code",
   "execution_count": 68,
   "id": "9074a71d",
   "metadata": {},
   "outputs": [
    {
     "data": {
      "text/html": [
       "<div>\n",
       "<style scoped>\n",
       "    .dataframe tbody tr th:only-of-type {\n",
       "        vertical-align: middle;\n",
       "    }\n",
       "\n",
       "    .dataframe tbody tr th {\n",
       "        vertical-align: top;\n",
       "    }\n",
       "\n",
       "    .dataframe thead th {\n",
       "        text-align: right;\n",
       "    }\n",
       "</style>\n",
       "<table border=\"1\" class=\"dataframe\">\n",
       "  <thead>\n",
       "    <tr style=\"text-align: right;\">\n",
       "      <th></th>\n",
       "      <th>title</th>\n",
       "      <th>Directed by</th>\n",
       "      <th>Written by</th>\n",
       "      <th>Based on</th>\n",
       "      <th>Produced by</th>\n",
       "      <th>Starring</th>\n",
       "      <th>Music by</th>\n",
       "      <th>Production company</th>\n",
       "      <th>Distributed by</th>\n",
       "      <th>Running time</th>\n",
       "      <th>...</th>\n",
       "      <th>Traditional</th>\n",
       "      <th>Simplified</th>\n",
       "      <th>Original title</th>\n",
       "      <th>Layouts by</th>\n",
       "      <th>Music</th>\n",
       "      <th>Lyrics</th>\n",
       "      <th>Book</th>\n",
       "      <th>Basis</th>\n",
       "      <th>Productions</th>\n",
       "      <th>Awards</th>\n",
       "    </tr>\n",
       "  </thead>\n",
       "  <tbody>\n",
       "    <tr>\n",
       "      <th>0</th>\n",
       "      <td>Snow White and the Seven Dwarfs</td>\n",
       "      <td>[David Hand, William Cottrell, Wilfred Jackson...</td>\n",
       "      <td>[Ted Sears, Richard Creedon, Otto Englander, D...</td>\n",
       "      <td>[Snow White, by The, Brothers Grimm]</td>\n",
       "      <td>Walt Disney</td>\n",
       "      <td>[Adriana Caselotti, Lucille La Verne, Harry St...</td>\n",
       "      <td>[Frank Churchill, Paul Smith, Leigh Harline]</td>\n",
       "      <td>Walt Disney Productions</td>\n",
       "      <td>RKO Radio Pictures</td>\n",
       "      <td>83 minutes</td>\n",
       "      <td>...</td>\n",
       "      <td>NaN</td>\n",
       "      <td>NaN</td>\n",
       "      <td>NaN</td>\n",
       "      <td>NaN</td>\n",
       "      <td>NaN</td>\n",
       "      <td>NaN</td>\n",
       "      <td>NaN</td>\n",
       "      <td>NaN</td>\n",
       "      <td>NaN</td>\n",
       "      <td>NaN</td>\n",
       "    </tr>\n",
       "    <tr>\n",
       "      <th>1</th>\n",
       "      <td>Pinocchio</td>\n",
       "      <td>[Ben Sharpsteen, Hamilton Luske, Bill Roberts,...</td>\n",
       "      <td>NaN</td>\n",
       "      <td>[The Adventures of Pinocchio, by, Carlo Collodi]</td>\n",
       "      <td>Walt Disney</td>\n",
       "      <td>[Cliff Edwards, Dickie Jones, Christian Rub, W...</td>\n",
       "      <td>[Leigh Harline, Paul J. Smith]</td>\n",
       "      <td>Walt Disney Productions</td>\n",
       "      <td>RKO Radio Pictures</td>\n",
       "      <td>88 minutes</td>\n",
       "      <td>...</td>\n",
       "      <td>NaN</td>\n",
       "      <td>NaN</td>\n",
       "      <td>NaN</td>\n",
       "      <td>NaN</td>\n",
       "      <td>NaN</td>\n",
       "      <td>NaN</td>\n",
       "      <td>NaN</td>\n",
       "      <td>NaN</td>\n",
       "      <td>NaN</td>\n",
       "      <td>NaN</td>\n",
       "    </tr>\n",
       "    <tr>\n",
       "      <th>2</th>\n",
       "      <td>Fantasia</td>\n",
       "      <td>[Samuel Armstrong, James Algar, Bill Roberts, ...</td>\n",
       "      <td>NaN</td>\n",
       "      <td>NaN</td>\n",
       "      <td>[Walt Disney, Ben Sharpsteen]</td>\n",
       "      <td>[Leopold Stokowski, Deems Taylor]</td>\n",
       "      <td>See program</td>\n",
       "      <td>Walt Disney Productions</td>\n",
       "      <td>RKO Radio Pictures</td>\n",
       "      <td>126 minutes</td>\n",
       "      <td>...</td>\n",
       "      <td>NaN</td>\n",
       "      <td>NaN</td>\n",
       "      <td>NaN</td>\n",
       "      <td>NaN</td>\n",
       "      <td>NaN</td>\n",
       "      <td>NaN</td>\n",
       "      <td>NaN</td>\n",
       "      <td>NaN</td>\n",
       "      <td>NaN</td>\n",
       "      <td>NaN</td>\n",
       "    </tr>\n",
       "    <tr>\n",
       "      <th>3</th>\n",
       "      <td>The Reluctant Dragon</td>\n",
       "      <td>[Alfred Werker, (live action), Hamilton Luske,...</td>\n",
       "      <td>[Live-action:, Ted Sears, Al Perkins, Larry Cl...</td>\n",
       "      <td>NaN</td>\n",
       "      <td>Walt Disney</td>\n",
       "      <td>[Robert Benchley, Frances Gifford, Buddy Peppe...</td>\n",
       "      <td>[Frank Churchill, Larry Morey]</td>\n",
       "      <td>Walt Disney Productions</td>\n",
       "      <td>RKO Radio Pictures</td>\n",
       "      <td>74 minutes</td>\n",
       "      <td>...</td>\n",
       "      <td>NaN</td>\n",
       "      <td>NaN</td>\n",
       "      <td>NaN</td>\n",
       "      <td>NaN</td>\n",
       "      <td>NaN</td>\n",
       "      <td>NaN</td>\n",
       "      <td>NaN</td>\n",
       "      <td>NaN</td>\n",
       "      <td>NaN</td>\n",
       "      <td>NaN</td>\n",
       "    </tr>\n",
       "    <tr>\n",
       "      <th>4</th>\n",
       "      <td>Dumbo</td>\n",
       "      <td>[Ben Sharpsteen, Norman Ferguson, Wilfred Jack...</td>\n",
       "      <td>NaN</td>\n",
       "      <td>[Dumbo, the Flying Elephant, by, Helen Aberson...</td>\n",
       "      <td>Walt Disney</td>\n",
       "      <td>[Edward Brophy, Verna Felton, Cliff Edwards, H...</td>\n",
       "      <td>[Frank Churchill, Oliver Wallace]</td>\n",
       "      <td>Walt Disney Productions</td>\n",
       "      <td>RKO Radio Pictures</td>\n",
       "      <td>64 minutes</td>\n",
       "      <td>...</td>\n",
       "      <td>NaN</td>\n",
       "      <td>NaN</td>\n",
       "      <td>NaN</td>\n",
       "      <td>NaN</td>\n",
       "      <td>NaN</td>\n",
       "      <td>NaN</td>\n",
       "      <td>NaN</td>\n",
       "      <td>NaN</td>\n",
       "      <td>NaN</td>\n",
       "      <td>NaN</td>\n",
       "    </tr>\n",
       "  </tbody>\n",
       "</table>\n",
       "<p>5 rows × 44 columns</p>\n",
       "</div>"
      ],
      "text/plain": [
       "                             title  \\\n",
       "0  Snow White and the Seven Dwarfs   \n",
       "1                        Pinocchio   \n",
       "2                         Fantasia   \n",
       "3             The Reluctant Dragon   \n",
       "4                            Dumbo   \n",
       "\n",
       "                                         Directed by  \\\n",
       "0  [David Hand, William Cottrell, Wilfred Jackson...   \n",
       "1  [Ben Sharpsteen, Hamilton Luske, Bill Roberts,...   \n",
       "2  [Samuel Armstrong, James Algar, Bill Roberts, ...   \n",
       "3  [Alfred Werker, (live action), Hamilton Luske,...   \n",
       "4  [Ben Sharpsteen, Norman Ferguson, Wilfred Jack...   \n",
       "\n",
       "                                          Written by  \\\n",
       "0  [Ted Sears, Richard Creedon, Otto Englander, D...   \n",
       "1                                                NaN   \n",
       "2                                                NaN   \n",
       "3  [Live-action:, Ted Sears, Al Perkins, Larry Cl...   \n",
       "4                                                NaN   \n",
       "\n",
       "                                            Based on  \\\n",
       "0               [Snow White, by The, Brothers Grimm]   \n",
       "1   [The Adventures of Pinocchio, by, Carlo Collodi]   \n",
       "2                                                NaN   \n",
       "3                                                NaN   \n",
       "4  [Dumbo, the Flying Elephant, by, Helen Aberson...   \n",
       "\n",
       "                     Produced by  \\\n",
       "0                    Walt Disney   \n",
       "1                    Walt Disney   \n",
       "2  [Walt Disney, Ben Sharpsteen]   \n",
       "3                    Walt Disney   \n",
       "4                    Walt Disney   \n",
       "\n",
       "                                            Starring  \\\n",
       "0  [Adriana Caselotti, Lucille La Verne, Harry St...   \n",
       "1  [Cliff Edwards, Dickie Jones, Christian Rub, W...   \n",
       "2                  [Leopold Stokowski, Deems Taylor]   \n",
       "3  [Robert Benchley, Frances Gifford, Buddy Peppe...   \n",
       "4  [Edward Brophy, Verna Felton, Cliff Edwards, H...   \n",
       "\n",
       "                                       Music by       Production company  \\\n",
       "0  [Frank Churchill, Paul Smith, Leigh Harline]  Walt Disney Productions   \n",
       "1                [Leigh Harline, Paul J. Smith]  Walt Disney Productions   \n",
       "2                                   See program  Walt Disney Productions   \n",
       "3                [Frank Churchill, Larry Morey]  Walt Disney Productions   \n",
       "4             [Frank Churchill, Oliver Wallace]  Walt Disney Productions   \n",
       "\n",
       "       Distributed by Running time  ... Traditional Simplified Original title  \\\n",
       "0  RKO Radio Pictures   83 minutes  ...         NaN        NaN            NaN   \n",
       "1  RKO Radio Pictures   88 minutes  ...         NaN        NaN            NaN   \n",
       "2  RKO Radio Pictures  126 minutes  ...         NaN        NaN            NaN   \n",
       "3  RKO Radio Pictures   74 minutes  ...         NaN        NaN            NaN   \n",
       "4  RKO Radio Pictures   64 minutes  ...         NaN        NaN            NaN   \n",
       "\n",
       "  Layouts by  Music  Lyrics  Book Basis Productions Awards  \n",
       "0        NaN    NaN     NaN   NaN   NaN         NaN    NaN  \n",
       "1        NaN    NaN     NaN   NaN   NaN         NaN    NaN  \n",
       "2        NaN    NaN     NaN   NaN   NaN         NaN    NaN  \n",
       "3        NaN    NaN     NaN   NaN   NaN         NaN    NaN  \n",
       "4        NaN    NaN     NaN   NaN   NaN         NaN    NaN  \n",
       "\n",
       "[5 rows x 44 columns]"
      ]
     },
     "execution_count": 68,
     "metadata": {},
     "output_type": "execute_result"
    }
   ],
   "source": [
    "df.head()"
   ]
  },
  {
   "cell_type": "code",
   "execution_count": 69,
   "id": "6c01efb1",
   "metadata": {},
   "outputs": [],
   "source": [
    "df.to_csv(\"disney_movie_data_final.csv\")"
   ]
  },
  {
   "cell_type": "code",
   "execution_count": 70,
   "id": "e581c201",
   "metadata": {
    "scrolled": true
   },
   "outputs": [
    {
     "name": "stdout",
     "output_type": "stream",
     "text": [
      "<class 'pandas.core.frame.DataFrame'>\n",
      "RangeIndex: 529 entries, 0 to 528\n",
      "Data columns (total 44 columns):\n",
      " #   Column                   Non-Null Count  Dtype         \n",
      "---  ------                   --------------  -----         \n",
      " 0   title                    529 non-null    object        \n",
      " 1   Directed by              525 non-null    object        \n",
      " 2   Written by               218 non-null    object        \n",
      " 3   Based on                 290 non-null    object        \n",
      " 4   Produced by              516 non-null    object        \n",
      " 5   Starring                 491 non-null    object        \n",
      " 6   Music by                 519 non-null    object        \n",
      " 7   Production company       209 non-null    object        \n",
      " 8   Distributed by           527 non-null    object        \n",
      " 9   Running time             514 non-null    object        \n",
      " 10  Country                  465 non-null    object        \n",
      " 11  Language                 505 non-null    object        \n",
      " 12  Budget                   327 non-null    object        \n",
      " 13  Box office               406 non-null    object        \n",
      " 14  Running time (int)       514 non-null    float64       \n",
      " 15  Budget (float)           319 non-null    float64       \n",
      " 16  Box office (float)       395 non-null    float64       \n",
      " 17  Release date (datetime)  516 non-null    datetime64[ns]\n",
      " 18  Release date             524 non-null    object        \n",
      " 19  imdb                     511 non-null    object        \n",
      " 20  metascore                511 non-null    object        \n",
      " 21  rotten_tomatoes          387 non-null    object        \n",
      " 22  Story by                 178 non-null    object        \n",
      " 23  Narrated by              63 non-null     object        \n",
      " 24  Cinematography           399 non-null    object        \n",
      " 25  Edited by                485 non-null    object        \n",
      " 26  Languages                22 non-null     object        \n",
      " 27  Screenplay by            263 non-null    object        \n",
      " 28  Countries                58 non-null     object        \n",
      " 29  Color process            7 non-null      object        \n",
      " 30  Production companies     317 non-null    object        \n",
      " 31  Japanese                 5 non-null      object        \n",
      " 32  Hepburn                  5 non-null      object        \n",
      " 33  Adaptation by            1 non-null      object        \n",
      " 34  Traditional              2 non-null      object        \n",
      " 35  Simplified               2 non-null      object        \n",
      " 36  Original title           1 non-null      object        \n",
      " 37  Layouts by               2 non-null      object        \n",
      " 38  Music                    2 non-null      object        \n",
      " 39  Lyrics                   2 non-null      object        \n",
      " 40  Book                     2 non-null      object        \n",
      " 41  Basis                    2 non-null      object        \n",
      " 42  Productions              2 non-null      object        \n",
      " 43  Awards                   2 non-null      object        \n",
      "dtypes: datetime64[ns](1), float64(3), object(40)\n",
      "memory usage: 182.0+ KB\n"
     ]
    }
   ],
   "source": [
    "df.info()"
   ]
  },
  {
   "cell_type": "code",
   "execution_count": 74,
   "id": "e145c2fa",
   "metadata": {},
   "outputs": [
    {
     "data": {
      "text/html": [
       "<div>\n",
       "<style scoped>\n",
       "    .dataframe tbody tr th:only-of-type {\n",
       "        vertical-align: middle;\n",
       "    }\n",
       "\n",
       "    .dataframe tbody tr th {\n",
       "        vertical-align: top;\n",
       "    }\n",
       "\n",
       "    .dataframe thead th {\n",
       "        text-align: right;\n",
       "    }\n",
       "</style>\n",
       "<table border=\"1\" class=\"dataframe\">\n",
       "  <thead>\n",
       "    <tr style=\"text-align: right;\">\n",
       "      <th></th>\n",
       "      <th>title</th>\n",
       "      <th>Directed by</th>\n",
       "      <th>Written by</th>\n",
       "      <th>Based on</th>\n",
       "      <th>Produced by</th>\n",
       "      <th>Starring</th>\n",
       "      <th>Music by</th>\n",
       "      <th>Production company</th>\n",
       "      <th>Distributed by</th>\n",
       "      <th>Running time</th>\n",
       "      <th>...</th>\n",
       "      <th>Traditional</th>\n",
       "      <th>Simplified</th>\n",
       "      <th>Original title</th>\n",
       "      <th>Layouts by</th>\n",
       "      <th>Music</th>\n",
       "      <th>Lyrics</th>\n",
       "      <th>Book</th>\n",
       "      <th>Basis</th>\n",
       "      <th>Productions</th>\n",
       "      <th>Awards</th>\n",
       "    </tr>\n",
       "  </thead>\n",
       "  <tbody>\n",
       "    <tr>\n",
       "      <th>526</th>\n",
       "      <td>Tinker Bell</td>\n",
       "      <td>[Bradley Raymond ( 1 , 3 &amp; 4 ), Klay Hall ( 2 ...</td>\n",
       "      <td>NaN</td>\n",
       "      <td>NaN</td>\n",
       "      <td>NaN</td>\n",
       "      <td>[Mae Whitman, Lucy Liu, Raven-Symoné, Megan Hi...</td>\n",
       "      <td>Joel McNeely</td>\n",
       "      <td>DisneyToon Studios</td>\n",
       "      <td>[Walt Disney Studios, Home Entertainment]</td>\n",
       "      <td>[468 minutes]</td>\n",
       "      <td>...</td>\n",
       "      <td>NaN</td>\n",
       "      <td>NaN</td>\n",
       "      <td>NaN</td>\n",
       "      <td>NaN</td>\n",
       "      <td>NaN</td>\n",
       "      <td>NaN</td>\n",
       "      <td>NaN</td>\n",
       "      <td>NaN</td>\n",
       "      <td>NaN</td>\n",
       "      <td>NaN</td>\n",
       "    </tr>\n",
       "    <tr>\n",
       "      <th>332</th>\n",
       "      <td>Pirates of the Caribbean: At World's End</td>\n",
       "      <td>Gore Verbinski</td>\n",
       "      <td>[Ted Elliott, Terry Rossio]</td>\n",
       "      <td>[Characters by Ted Elliott Terry Rossio Stuart...</td>\n",
       "      <td>Jerry Bruckheimer</td>\n",
       "      <td>[Johnny Depp, Orlando Bloom, Keira Knightley, ...</td>\n",
       "      <td>Hans Zimmer</td>\n",
       "      <td>NaN</td>\n",
       "      <td>Buena Vista Pictures Distribution</td>\n",
       "      <td>169 minutes</td>\n",
       "      <td>...</td>\n",
       "      <td>NaN</td>\n",
       "      <td>NaN</td>\n",
       "      <td>NaN</td>\n",
       "      <td>NaN</td>\n",
       "      <td>NaN</td>\n",
       "      <td>NaN</td>\n",
       "      <td>NaN</td>\n",
       "      <td>NaN</td>\n",
       "      <td>NaN</td>\n",
       "      <td>NaN</td>\n",
       "    </tr>\n",
       "    <tr>\n",
       "      <th>85</th>\n",
       "      <td>The Happiest Millionaire</td>\n",
       "      <td>Norman Tokar</td>\n",
       "      <td>NaN</td>\n",
       "      <td>[My Philadelphia Father, by Cordelia Drexel Bi...</td>\n",
       "      <td>[Walt Disney, Bill Anderson]</td>\n",
       "      <td>[Fred MacMurray, Tommy Steele, Greer Garson, G...</td>\n",
       "      <td>Jack Elliott</td>\n",
       "      <td>Walt Disney Productions</td>\n",
       "      <td>Buena Vista Distribution</td>\n",
       "      <td>[164 minutes, (, Los Angeles, premiere), 144 m...</td>\n",
       "      <td>...</td>\n",
       "      <td>NaN</td>\n",
       "      <td>NaN</td>\n",
       "      <td>NaN</td>\n",
       "      <td>NaN</td>\n",
       "      <td>NaN</td>\n",
       "      <td>NaN</td>\n",
       "      <td>NaN</td>\n",
       "      <td>NaN</td>\n",
       "      <td>NaN</td>\n",
       "      <td>NaN</td>\n",
       "    </tr>\n",
       "    <tr>\n",
       "      <th>445</th>\n",
       "      <td>Jagga Jasoos</td>\n",
       "      <td>Anurag Basu</td>\n",
       "      <td>[Screenplay:, Anurag Basu, Dialogues in Rhyme:...</td>\n",
       "      <td>NaN</td>\n",
       "      <td>[Siddharth Roy Kapur, Anurag Basu, Ranbir Kapoor]</td>\n",
       "      <td>[Ranbir Kapoor, Katrina Kaif, Saswata Chatterj...</td>\n",
       "      <td>Pritam</td>\n",
       "      <td>NaN</td>\n",
       "      <td>UTV Motion Pictures</td>\n",
       "      <td>162 minutes</td>\n",
       "      <td>...</td>\n",
       "      <td>NaN</td>\n",
       "      <td>NaN</td>\n",
       "      <td>NaN</td>\n",
       "      <td>NaN</td>\n",
       "      <td>NaN</td>\n",
       "      <td>NaN</td>\n",
       "      <td>NaN</td>\n",
       "      <td>NaN</td>\n",
       "      <td>NaN</td>\n",
       "      <td>NaN</td>\n",
       "    </tr>\n",
       "    <tr>\n",
       "      <th>438</th>\n",
       "      <td>Dangal</td>\n",
       "      <td>Nitesh Tiwari</td>\n",
       "      <td>[Nitesh Tiwari, Piyush Gupta, Shreyas Jain, Ni...</td>\n",
       "      <td>NaN</td>\n",
       "      <td>[Aamir Khan, Kiran Rao, Siddharth Roy Kapur]</td>\n",
       "      <td>[Aamir Khan, Sakshi Tanwar, Fatima Sana Shaikh...</td>\n",
       "      <td>Pritam</td>\n",
       "      <td>NaN</td>\n",
       "      <td>UTV Motion Pictures</td>\n",
       "      <td>161 minutes</td>\n",
       "      <td>...</td>\n",
       "      <td>NaN</td>\n",
       "      <td>NaN</td>\n",
       "      <td>NaN</td>\n",
       "      <td>NaN</td>\n",
       "      <td>NaN</td>\n",
       "      <td>NaN</td>\n",
       "      <td>NaN</td>\n",
       "      <td>NaN</td>\n",
       "      <td>NaN</td>\n",
       "      <td>NaN</td>\n",
       "    </tr>\n",
       "  </tbody>\n",
       "</table>\n",
       "<p>5 rows × 44 columns</p>\n",
       "</div>"
      ],
      "text/plain": [
       "                                        title  \\\n",
       "526                               Tinker Bell   \n",
       "332  Pirates of the Caribbean: At World's End   \n",
       "85                   The Happiest Millionaire   \n",
       "445                              Jagga Jasoos   \n",
       "438                                    Dangal   \n",
       "\n",
       "                                           Directed by  \\\n",
       "526  [Bradley Raymond ( 1 , 3 & 4 ), Klay Hall ( 2 ...   \n",
       "332                                     Gore Verbinski   \n",
       "85                                        Norman Tokar   \n",
       "445                                        Anurag Basu   \n",
       "438                                      Nitesh Tiwari   \n",
       "\n",
       "                                            Written by  \\\n",
       "526                                                NaN   \n",
       "332                        [Ted Elliott, Terry Rossio]   \n",
       "85                                                 NaN   \n",
       "445  [Screenplay:, Anurag Basu, Dialogues in Rhyme:...   \n",
       "438  [Nitesh Tiwari, Piyush Gupta, Shreyas Jain, Ni...   \n",
       "\n",
       "                                              Based on  \\\n",
       "526                                                NaN   \n",
       "332  [Characters by Ted Elliott Terry Rossio Stuart...   \n",
       "85   [My Philadelphia Father, by Cordelia Drexel Bi...   \n",
       "445                                                NaN   \n",
       "438                                                NaN   \n",
       "\n",
       "                                           Produced by  \\\n",
       "526                                                NaN   \n",
       "332                                  Jerry Bruckheimer   \n",
       "85                        [Walt Disney, Bill Anderson]   \n",
       "445  [Siddharth Roy Kapur, Anurag Basu, Ranbir Kapoor]   \n",
       "438       [Aamir Khan, Kiran Rao, Siddharth Roy Kapur]   \n",
       "\n",
       "                                              Starring      Music by  \\\n",
       "526  [Mae Whitman, Lucy Liu, Raven-Symoné, Megan Hi...  Joel McNeely   \n",
       "332  [Johnny Depp, Orlando Bloom, Keira Knightley, ...   Hans Zimmer   \n",
       "85   [Fred MacMurray, Tommy Steele, Greer Garson, G...  Jack Elliott   \n",
       "445  [Ranbir Kapoor, Katrina Kaif, Saswata Chatterj...        Pritam   \n",
       "438  [Aamir Khan, Sakshi Tanwar, Fatima Sana Shaikh...        Pritam   \n",
       "\n",
       "          Production company                             Distributed by  \\\n",
       "526       DisneyToon Studios  [Walt Disney Studios, Home Entertainment]   \n",
       "332                      NaN          Buena Vista Pictures Distribution   \n",
       "85   Walt Disney Productions                   Buena Vista Distribution   \n",
       "445                      NaN                        UTV Motion Pictures   \n",
       "438                      NaN                        UTV Motion Pictures   \n",
       "\n",
       "                                          Running time  ... Traditional  \\\n",
       "526                                      [468 minutes]  ...         NaN   \n",
       "332                                        169 minutes  ...         NaN   \n",
       "85   [164 minutes, (, Los Angeles, premiere), 144 m...  ...         NaN   \n",
       "445                                        162 minutes  ...         NaN   \n",
       "438                                        161 minutes  ...         NaN   \n",
       "\n",
       "    Simplified Original title Layouts by  Music  Lyrics  Book Basis  \\\n",
       "526        NaN            NaN        NaN    NaN     NaN   NaN   NaN   \n",
       "332        NaN            NaN        NaN    NaN     NaN   NaN   NaN   \n",
       "85         NaN            NaN        NaN    NaN     NaN   NaN   NaN   \n",
       "445        NaN            NaN        NaN    NaN     NaN   NaN   NaN   \n",
       "438        NaN            NaN        NaN    NaN     NaN   NaN   NaN   \n",
       "\n",
       "    Productions Awards  \n",
       "526         NaN    NaN  \n",
       "332         NaN    NaN  \n",
       "85          NaN    NaN  \n",
       "445         NaN    NaN  \n",
       "438         NaN    NaN  \n",
       "\n",
       "[5 rows x 44 columns]"
      ]
     },
     "execution_count": 74,
     "metadata": {},
     "output_type": "execute_result"
    }
   ],
   "source": [
    "running_times = df.sort_values(['Running time (int)'], ascending=False)\n",
    "\n",
    "running_times.head()"
   ]
  }
 ],
 "metadata": {
  "kernelspec": {
   "display_name": "Python 3 (ipykernel)",
   "language": "python",
   "name": "python3"
  },
  "language_info": {
   "codemirror_mode": {
    "name": "ipython",
    "version": 3
   },
   "file_extension": ".py",
   "mimetype": "text/x-python",
   "name": "python",
   "nbconvert_exporter": "python",
   "pygments_lexer": "ipython3",
   "version": "3.9.13"
  }
 },
 "nbformat": 4,
 "nbformat_minor": 5
}
